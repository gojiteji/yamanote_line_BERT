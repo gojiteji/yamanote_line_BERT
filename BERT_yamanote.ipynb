{
  "nbformat": 4,
  "nbformat_minor": 0,
  "metadata": {
    "colab": {
      "provenance": [],
      "authorship_tag": "ABX9TyP5RGWzP+wxP6CVr1O9NFot",
      "include_colab_link": true
    },
    "kernelspec": {
      "name": "python3",
      "display_name": "Python 3"
    },
    "language_info": {
      "name": "python"
    },
    "accelerator": "GPU",
    "gpuClass": "standard"
  },
  "cells": [
    {
      "cell_type": "markdown",
      "metadata": {
        "id": "view-in-github",
        "colab_type": "text"
      },
      "source": [
        "<a href=\"https://colab.research.google.com/github/gojiteji/yamanote_line_BERT/blob/main/BERT_yamanote.ipynb\" target=\"_parent\"><img src=\"https://colab.research.google.com/assets/colab-badge.svg\" alt=\"Open In Colab\"/></a>"
      ]
    },
    {
      "cell_type": "code",
      "execution_count": 7,
      "metadata": {
        "colab": {
          "base_uri": "https://localhost:8080/"
        },
        "id": "jqi9oV0fiA5B",
        "outputId": "f9d3b4b2-410a-4a7e-93e5-0ec56ffecf36"
      },
      "outputs": [
        {
          "output_type": "stream",
          "name": "stdout",
          "text": [
            "Looking in indexes: https://pypi.org/simple, https://us-python.pkg.dev/colab-wheels/public/simple/\n",
            "Requirement already satisfied: transformers in /usr/local/lib/python3.9/dist-packages (4.27.1)\n",
            "Requirement already satisfied: fugashi in /usr/local/lib/python3.9/dist-packages (1.2.1)\n",
            "Requirement already satisfied: unidic_lite in /usr/local/lib/python3.9/dist-packages (1.0.8)\n",
            "Requirement already satisfied: numpy>=1.17 in /usr/local/lib/python3.9/dist-packages (from transformers) (1.22.4)\n",
            "Requirement already satisfied: regex!=2019.12.17 in /usr/local/lib/python3.9/dist-packages (from transformers) (2022.10.31)\n",
            "Requirement already satisfied: requests in /usr/local/lib/python3.9/dist-packages (from transformers) (2.27.1)\n",
            "Requirement already satisfied: pyyaml>=5.1 in /usr/local/lib/python3.9/dist-packages (from transformers) (6.0)\n",
            "Requirement already satisfied: tqdm>=4.27 in /usr/local/lib/python3.9/dist-packages (from transformers) (4.65.0)\n",
            "Requirement already satisfied: tokenizers!=0.11.3,<0.14,>=0.11.1 in /usr/local/lib/python3.9/dist-packages (from transformers) (0.13.2)\n",
            "Requirement already satisfied: packaging>=20.0 in /usr/local/lib/python3.9/dist-packages (from transformers) (23.0)\n",
            "Requirement already satisfied: filelock in /usr/local/lib/python3.9/dist-packages (from transformers) (3.10.0)\n",
            "Requirement already satisfied: huggingface-hub<1.0,>=0.11.0 in /usr/local/lib/python3.9/dist-packages (from transformers) (0.13.2)\n",
            "Requirement already satisfied: typing-extensions>=3.7.4.3 in /usr/local/lib/python3.9/dist-packages (from huggingface-hub<1.0,>=0.11.0->transformers) (4.5.0)\n",
            "Requirement already satisfied: certifi>=2017.4.17 in /usr/local/lib/python3.9/dist-packages (from requests->transformers) (2022.12.7)\n",
            "Requirement already satisfied: urllib3<1.27,>=1.21.1 in /usr/local/lib/python3.9/dist-packages (from requests->transformers) (1.26.15)\n",
            "Requirement already satisfied: charset-normalizer~=2.0.0 in /usr/local/lib/python3.9/dist-packages (from requests->transformers) (2.0.12)\n",
            "Requirement already satisfied: idna<4,>=2.5 in /usr/local/lib/python3.9/dist-packages (from requests->transformers) (3.4)\n"
          ]
        },
        {
          "output_type": "stream",
          "name": "stderr",
          "text": [
            "Some weights of the model checkpoint at cl-tohoku/bert-large-japanese were not used when initializing BertForMaskedLM: ['cls.seq_relationship.bias', 'cls.seq_relationship.weight']\n",
            "- This IS expected if you are initializing BertForMaskedLM from the checkpoint of a model trained on another task or with another architecture (e.g. initializing a BertForSequenceClassification model from a BertForPreTraining model).\n",
            "- This IS NOT expected if you are initializing BertForMaskedLM from the checkpoint of a model that you expect to be exactly identical (initializing a BertForSequenceClassification model from a BertForSequenceClassification model).\n"
          ]
        }
      ],
      "source": [
        "!pip install transformers  fugashi unidic_lite\n",
        "\n",
        "from transformers import AutoTokenizer, AutoModelForMaskedLM\n",
        "import torch\n",
        "tokenizer = AutoTokenizer.from_pretrained(\"cl-tohoku/bert-large-japanese\")\n",
        "\n",
        "model = AutoModelForMaskedLM.from_pretrained(\"cl-tohoku/bert-large-japanese\")"
      ]
    },
    {
      "cell_type": "code",
      "source": [
        "stations=[\"池袋\",\"大塚\",\"巣鴨\",\"駒込\",\"田端\",\"西日暮里\",\"日暮里\",\"鶯谷\",\"上野\",\"御徒町\",\"秋葉原\",\"神田\",\"東京\",\"有楽町\",\"新橋\",\"浜松町\",\"田町\",\"高輪ゲートウェイ\",\"品川\",\"大崎\",\"五反田\",\"目黒\",\"恵比寿\",\"渋谷\",\"原宿\",\"代々木\",\"新宿\",\"新大久保\",\"目白\"]"
      ],
      "metadata": {
        "id": "5pudkirOiNBm"
      },
      "execution_count": 31,
      "outputs": []
    },
    {
      "cell_type": "code",
      "source": [
        "one_tokens=[]\n",
        "one_ids=[]\n",
        "for station in stations:\n",
        "  if len(tokenizer.tokenize(station))==1:\n",
        "    one_tokens.append(station)\n",
        "    one_ids.append(tokenizer.convert_tokens_to_ids(station))"
      ],
      "metadata": {
        "id": "IGu12UFCjLW0"
      },
      "execution_count": 32,
      "outputs": []
    },
    {
      "cell_type": "code",
      "source": [
        "one_tokens,one_ids"
      ],
      "metadata": {
        "colab": {
          "base_uri": "https://localhost:8080/"
        },
        "id": "r5VXx9q0kUFF",
        "outputId": "a9145018-c0cb-4dcf-bee3-1409a29d256d"
      },
      "execution_count": 33,
      "outputs": [
        {
          "output_type": "execute_result",
          "data": {
            "text/plain": [
              "(['池袋',\n",
              "  '大塚',\n",
              "  '上野',\n",
              "  '秋葉原',\n",
              "  '神田',\n",
              "  '東京',\n",
              "  '有楽町',\n",
              "  '新橋',\n",
              "  '田町',\n",
              "  '品川',\n",
              "  '大崎',\n",
              "  '目黒',\n",
              "  '恵比寿',\n",
              "  '渋谷',\n",
              "  '原宿',\n",
              "  '代々木',\n",
              "  '新宿'],\n",
              " [19554,\n",
              "  17992,\n",
              "  14335,\n",
              "  23314,\n",
              "  17176,\n",
              "  11224,\n",
              "  31587,\n",
              "  26170,\n",
              "  30095,\n",
              "  18373,\n",
              "  23020,\n",
              "  20108,\n",
              "  27918,\n",
              "  14061,\n",
              "  26994,\n",
              "  25423,\n",
              "  13538])"
            ]
          },
          "metadata": {},
          "execution_count": 33
        }
      ]
    },
    {
      "cell_type": "code",
      "source": [
        "prob_matrix=torch.zeros((len(one_tokens),len(one_tokens)))\n",
        "for i in range(len(one_ids)):\n",
        "  preds=model(**tokenizer(\"この電車は、山手線内回り、先ほど\"+one_tokens[i]+\"駅を出発、次の駅は[MASK]です。\",return_tensors=\"pt\")).logits[0,-4,:]\n",
        "  for j in range(len(one_ids)):\n",
        "    if i is not j:\n",
        "      prob_matrix[i,j]=preds[one_ids[j]]"
      ],
      "metadata": {
        "id": "fX0L9lNyoOL_"
      },
      "execution_count": 34,
      "outputs": []
    },
    {
      "cell_type": "code",
      "source": [
        "tokenizer.batch_decode(torch.argmax(model(**tokenizer(\"この電車は、山手線内回り、先ほど秋葉原駅を出発、次の駅は[MASK]です。\",return_tensors=\"pt\")).logits,-1))"
      ],
      "metadata": {
        "colab": {
          "base_uri": "https://localhost:8080/"
        },
        "id": "gho07f8um0zt",
        "outputId": "d3b775c2-596a-4b0f-d488-6c0d7a9a72cf"
      },
      "execution_count": 37,
      "outputs": [
        {
          "output_type": "execute_result",
          "data": {
            "text/plain": [
              "['」 この 電車 は 、 山手 線 内回り 、 先ほど 秋葉原 駅 を 出発 、 次 の 駅 は 代々木 です 。 。']"
            ]
          },
          "metadata": {},
          "execution_count": 37
        }
      ]
    },
    {
      "cell_type": "code",
      "source": [
        "tokenizer.decode(torch.argmax(model(**tokenizer(\"この電車は、山手線内回り、先ほど日暮里駅を出発、次の駅は[MASK]です。\",return_tensors=\"pt\")).logits[0,-4,:]))"
      ],
      "metadata": {
        "colab": {
          "base_uri": "https://localhost:8080/",
          "height": 35
        },
        "id": "yX5XEgS_nN0e",
        "outputId": "a994168c-e99b-4df7-e185-66f2b7e65cc7"
      },
      "execution_count": 14,
      "outputs": [
        {
          "output_type": "execute_result",
          "data": {
            "text/plain": [
              "'池 袋'"
            ],
            "application/vnd.google.colaboratory.intrinsic+json": {
              "type": "string"
            }
          },
          "metadata": {},
          "execution_count": 14
        }
      ]
    },
    {
      "cell_type": "code",
      "source": [
        "model(**tokenizer(\"この電車は、山手線内回り、先ほど日暮里駅を出発、次の駅は[MASK]です。\",return_tensors=\"pt\")).logits[0,-4,:]"
      ],
      "metadata": {
        "colab": {
          "base_uri": "https://localhost:8080/"
        },
        "id": "MX0yP3EblV1X",
        "outputId": "6e93903b-9608-4620-c78d-902738f2b0d6"
      },
      "execution_count": 15,
      "outputs": [
        {
          "output_type": "execute_result",
          "data": {
            "text/plain": [
              "tensor([-3.3316,  5.8020, -4.4721,  ..., -2.3600, -5.3868, -7.5555],\n",
              "       grad_fn=<SliceBackward0>)"
            ]
          },
          "metadata": {},
          "execution_count": 15
        }
      ]
    },
    {
      "cell_type": "code",
      "source": [
        "prob_matrix"
      ],
      "metadata": {
        "colab": {
          "base_uri": "https://localhost:8080/"
        },
        "id": "CPbOl6jflX6F",
        "outputId": "8f07b9d8-2e49-4ec2-f854-ae3909abc2a8"
      },
      "execution_count": 16,
      "outputs": [
        {
          "output_type": "execute_result",
          "data": {
            "text/plain": [
              "tensor([[ 0.0000,  8.1850, 12.5482,  9.9654, 10.5175, 11.8921, 11.8069, 11.6654,\n",
              "         13.6416, 12.3393, 12.8241, 11.3491, 13.1104, 14.0034, 13.0543, 13.8718,\n",
              "         13.6849,  7.2554,  6.8335],\n",
              "        [13.3966,  0.0000, 10.8322,  9.4504, 10.6880, 10.4078, 10.6246,  9.8895,\n",
              "         11.4465, 11.1802, 11.8266, 10.8720, 12.0043, 11.9919, 11.3422, 13.8950,\n",
              "         11.9270,  6.8343,  7.0178],\n",
              "        [13.5297,  6.5259,  0.0000, 11.1701, 10.6070, 13.3885, 11.5063, 11.0776,\n",
              "         13.1270, 13.0026, 12.2007, 10.5746, 11.5781, 13.4687, 11.6001, 13.4181,\n",
              "         12.2596,  6.6750,  8.0701],\n",
              "        [14.5524,  7.4295, 13.2032,  0.0000, 11.9051, 12.5841, 11.9116, 11.5187,\n",
              "         13.5560, 12.8158, 12.2188, 11.2565, 12.8215, 13.6287, 11.9627, 14.6129,\n",
              "         12.2895,  7.2287,  7.8436],\n",
              "        [13.1654,  7.2958, 12.5750, 11.5621,  0.0000, 11.9389, 11.8114, 11.5439,\n",
              "         12.8152, 12.1112, 12.1132, 10.3504, 12.3001, 12.8637, 11.2495, 13.3948,\n",
              "         11.9185,  6.4010,  7.7499],\n",
              "        [13.0806,  5.7685, 14.0838, 10.2550,  9.9159,  0.0000, 11.9314, 12.3766,\n",
              "         12.8752, 13.8162, 11.4845, 10.7813, 12.4365, 12.9996, 11.4732, 12.2874,\n",
              "         12.1189,  6.1043,  7.5288],\n",
              "        [14.0765,  6.7235, 12.3145, 10.3164, 11.0342, 12.2107,  0.0000, 11.7468,\n",
              "         12.3455, 12.9265, 12.1546, 11.1479, 12.6246, 14.2894, 11.2077, 13.6771,\n",
              "         12.0711,  5.7415,  7.6242],\n",
              "        [13.1654,  7.0742, 11.6326,  9.5942, 10.8565, 12.3331, 11.3365,  0.0000,\n",
              "         13.5482, 13.6828, 12.8965, 12.2684, 12.5950, 13.7046, 11.2276, 14.0261,\n",
              "         11.7935,  6.0659,  8.6493],\n",
              "        [12.7314,  6.3681, 11.4993,  9.7554, 10.4995, 11.8688, 10.1583, 10.9194,\n",
              "          0.0000, 12.7342, 12.8571, 11.0535, 12.0938, 12.9871, 11.4021, 13.2236,\n",
              "         11.4939,  5.2336,  8.2482],\n",
              "        [12.6444,  6.5036, 12.0077,  9.4327,  9.8085, 12.7594, 10.2336, 11.6832,\n",
              "         13.4456,  0.0000, 12.6907, 10.9166, 12.5692, 13.1111, 11.3119, 13.2388,\n",
              "         12.1832,  5.5794,  7.6144],\n",
              "        [12.7522,  6.7468, 12.0105, 10.1543, 10.0697, 11.6088, 10.2213, 10.6389,\n",
              "         13.1967, 13.2854,  0.0000, 11.3297, 13.2986, 12.3919, 11.4673, 13.1191,\n",
              "         11.7962,  6.3936,  7.7649],\n",
              "        [13.0864,  8.1777, 11.2508,  9.5160,  9.3253, 11.1051, 10.0603, 12.2381,\n",
              "         13.3654, 13.4992, 13.1481,  0.0000, 14.4749, 14.0477, 12.5703, 13.1579,\n",
              "         12.3014,  6.3464,  7.7331],\n",
              "        [13.2491,  7.4771, 10.9311,  9.2924,  9.6509, 11.6230, 10.2728, 11.1349,\n",
              "         13.2591, 11.9876, 11.7955, 11.8082,  0.0000, 13.3867, 11.3793, 13.3585,\n",
              "         11.8003,  6.2318,  6.6215],\n",
              "        [14.0242,  8.0790, 12.7144, 10.7885, 10.1439, 11.2479, 11.0799, 12.2331,\n",
              "         13.1439, 12.5128, 12.7209, 12.0770, 14.7448,  0.0000, 14.1906, 15.1139,\n",
              "         13.0492,  6.6045,  7.3036],\n",
              "        [13.7603,  7.2966, 11.9930, 10.1583, 10.7162, 12.1958, 10.0495, 10.7067,\n",
              "         13.5787, 12.3382, 12.4699, 11.9058, 12.5934, 14.3009,  0.0000, 14.0628,\n",
              "         11.9838,  6.6788,  7.2414],\n",
              "        [12.9506,  8.8899, 11.8515, 10.0626, 10.0238, 11.2580, 10.3131, 10.6060,\n",
              "         13.0845, 11.8794, 12.4277, 10.7171, 12.9677, 14.0312, 13.6638,  0.0000,\n",
              "         12.5084,  7.4139,  7.9254],\n",
              "        [13.9821,  7.3975, 12.7188,  9.8093, 10.6512, 12.2470, 10.9069, 11.0702,\n",
              "         13.4198, 12.7491, 12.3673, 11.1553, 13.0319, 14.0331, 12.2940, 14.2808,\n",
              "          0.0000,  7.0920,  8.3075],\n",
              "        [13.1117,  7.2107, 10.9441,  9.4823, 11.4439, 11.5917,  9.9364,  9.1198,\n",
              "         11.8618, 11.0399, 11.1028, 10.1543, 11.4125, 12.4952, 11.7332, 13.1487,\n",
              "         11.7447,  0.0000,  7.3902],\n",
              "        [11.1981,  6.1832, 10.9393,  8.4579,  9.4744, 10.4935,  9.7739, 11.0033,\n",
              "         12.4379, 11.3460, 11.0232, 10.6565, 10.8267, 10.7519, 10.0515, 11.7381,\n",
              "         10.9752,  6.0349,  0.0000]], grad_fn=<CopySlices>)"
            ]
          },
          "metadata": {},
          "execution_count": 16
        }
      ]
    },
    {
      "cell_type": "code",
      "source": [
        "!pip uninstall pyvis -y\n",
        "!pip install pyvis==0.3.1"
      ],
      "metadata": {
        "colab": {
          "base_uri": "https://localhost:8080/",
          "height": 660
        },
        "id": "Ux4fC31zrzIA",
        "outputId": "8b9c1e81-cab1-416f-e85e-7fd66c3c642a"
      },
      "execution_count": 21,
      "outputs": [
        {
          "output_type": "stream",
          "name": "stdout",
          "text": [
            "Found existing installation: pyvis 0.3.1\n",
            "Uninstalling pyvis-0.3.1:\n",
            "  Would remove:\n",
            "    /usr/local/lib/python3.9/dist-packages/pyvis-0.3.1.dist-info/*\n",
            "    /usr/local/lib/python3.9/dist-packages/pyvis/*\n",
            "Proceed (Y/n)? y\n",
            "  Successfully uninstalled pyvis-0.3.1\n",
            "Looking in indexes: https://pypi.org/simple, https://us-python.pkg.dev/colab-wheels/public/simple/\n",
            "Collecting pyvis==0.3.1\n",
            "  Using cached pyvis-0.3.1-py3-none-any.whl\n",
            "Requirement already satisfied: ipython>=5.3.0 in /usr/local/lib/python3.9/dist-packages (from pyvis==0.3.1) (7.9.0)\n",
            "Requirement already satisfied: networkx>=1.11 in /usr/local/lib/python3.9/dist-packages (from pyvis==0.3.1) (3.0)\n",
            "Requirement already satisfied: jsonpickle>=1.4.1 in /usr/local/lib/python3.9/dist-packages (from pyvis==0.3.1) (3.0.1)\n",
            "Requirement already satisfied: jinja2>=2.9.6 in /usr/local/lib/python3.9/dist-packages (from pyvis==0.3.1) (3.1.2)\n",
            "Requirement already satisfied: pygments in /usr/local/lib/python3.9/dist-packages (from ipython>=5.3.0->pyvis==0.3.1) (2.6.1)\n",
            "Requirement already satisfied: decorator in /usr/local/lib/python3.9/dist-packages (from ipython>=5.3.0->pyvis==0.3.1) (4.4.2)\n",
            "Requirement already satisfied: backcall in /usr/local/lib/python3.9/dist-packages (from ipython>=5.3.0->pyvis==0.3.1) (0.2.0)\n",
            "Requirement already satisfied: pickleshare in /usr/local/lib/python3.9/dist-packages (from ipython>=5.3.0->pyvis==0.3.1) (0.7.5)\n",
            "Requirement already satisfied: traitlets>=4.2 in /usr/local/lib/python3.9/dist-packages (from ipython>=5.3.0->pyvis==0.3.1) (5.7.1)\n",
            "Requirement already satisfied: prompt-toolkit<2.1.0,>=2.0.0 in /usr/local/lib/python3.9/dist-packages (from ipython>=5.3.0->pyvis==0.3.1) (2.0.10)\n",
            "Requirement already satisfied: setuptools>=18.5 in /usr/local/lib/python3.9/dist-packages (from ipython>=5.3.0->pyvis==0.3.1) (63.4.3)\n",
            "Requirement already satisfied: jedi>=0.10 in /usr/local/lib/python3.9/dist-packages (from ipython>=5.3.0->pyvis==0.3.1) (0.18.2)\n",
            "Requirement already satisfied: pexpect in /usr/local/lib/python3.9/dist-packages (from ipython>=5.3.0->pyvis==0.3.1) (4.8.0)\n",
            "Requirement already satisfied: MarkupSafe>=2.0 in /usr/local/lib/python3.9/dist-packages (from jinja2>=2.9.6->pyvis==0.3.1) (2.1.2)\n",
            "Requirement already satisfied: parso<0.9.0,>=0.8.0 in /usr/local/lib/python3.9/dist-packages (from jedi>=0.10->ipython>=5.3.0->pyvis==0.3.1) (0.8.3)\n",
            "Requirement already satisfied: wcwidth in /usr/local/lib/python3.9/dist-packages (from prompt-toolkit<2.1.0,>=2.0.0->ipython>=5.3.0->pyvis==0.3.1) (0.2.6)\n",
            "Requirement already satisfied: six>=1.9.0 in /usr/local/lib/python3.9/dist-packages (from prompt-toolkit<2.1.0,>=2.0.0->ipython>=5.3.0->pyvis==0.3.1) (1.15.0)\n",
            "Requirement already satisfied: ptyprocess>=0.5 in /usr/local/lib/python3.9/dist-packages (from pexpect->ipython>=5.3.0->pyvis==0.3.1) (0.7.0)\n",
            "Installing collected packages: pyvis\n",
            "Successfully installed pyvis-0.3.1\n"
          ]
        },
        {
          "output_type": "display_data",
          "data": {
            "application/vnd.colab-display-data+json": {
              "pip_warning": {
                "packages": [
                  "pyvis"
                ]
              }
            }
          },
          "metadata": {}
        }
      ]
    },
    {
      "cell_type": "code",
      "source": [
        "from pyvis.network import Network\n",
        " \n",
        "g = Network(directed =True)\n",
        "for i in range(len(one_tokens)):\n",
        "  g.add_node(i,label=one_tokens[i])\n",
        "for i in range(len(one_tokens)):\n",
        "  for j in range(len(one_tokens)):\n",
        "    if i!=j:\n",
        "      if(prob_matrix[i,j]==torch.max(prob_matrix[i,:])):\n",
        "        g.add_edge(i, j)#label=str(prob_matrix[i,j].item()))\n",
        "g.show(\"basic.html\")"
      ],
      "metadata": {
        "id": "DgeLRNcUsODu"
      },
      "execution_count": 38,
      "outputs": []
    },
    {
      "cell_type": "code",
      "source": [],
      "metadata": {
        "id": "XeoovygkvZZs"
      },
      "execution_count": null,
      "outputs": []
    }
  ]
}